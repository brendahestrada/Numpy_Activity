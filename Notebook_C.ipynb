{
 "cells": [
  {
   "cell_type": "code",
   "execution_count": 9,
   "id": "7687daf9",
   "metadata": {},
   "outputs": [
    {
     "name": "stdout",
     "output_type": "stream",
     "text": [
      "numpy @ file:///opt/concourse/worker/volumes/live/9909a8d0-9b8e-44eb-6059-6c668078c029/volume/numpy_and_numpy_base_1626271794641/work\n",
      "numpydoc @ file:///tmp/build/80754af9/numpydoc_1605117425582/work\n",
      "Note: you may need to restart the kernel to use updated packages.\n"
     ]
    }
   ],
   "source": [
    "%pip freeze | grep numpy"
   ]
  },
  {
   "cell_type": "code",
   "execution_count": 48,
   "id": "5b9b6e89",
   "metadata": {},
   "outputs": [],
   "source": [
    "import numpy as np"
   ]
  },
  {
   "cell_type": "code",
   "execution_count": 49,
   "id": "05770f38",
   "metadata": {},
   "outputs": [],
   "source": [
    "countries = np.loadtxt(\"data/gov_10a_exp_page_linear.csv\", delimiter=\",\", usecols =(7), skiprows=1, dtype=\"U\")\n",
    "year = np.loadtxt(\"data/gov_10a_exp_page_linear.csv\", delimiter=\",\", usecols =(8), skiprows=1, dtype=\"U\")\n",
    "total_exp = np.loadtxt(\"data/gov_10a_exp_page_linear.csv\", delimiter=\",\", usecols =(9), skiprows=1, dtype=\"f\")\n"
   ]
  },
  {
   "cell_type": "code",
   "execution_count": 50,
   "id": "608f35ce",
   "metadata": {},
   "outputs": [],
   "source": [
    "#Cual es el historial de gasto de España?\n",
    "import matplotlib.pyplot as plot\n",
    "\n",
    "#Podmeos observar como durante el último año el porcentaje del gasto en España, se ha incrementado respuescto al PIB\n",
    "#pasando de un 42,1 en el 2019 a un 52.4 en el año 2020. El año en el que se reportó un gasto mas bajo fue con un total \n",
    "#de 41,7 porciento respecto al PIB en el 2017"
   ]
  },
  {
   "cell_type": "code",
   "execution_count": 51,
   "id": "958e63de",
   "metadata": {},
   "outputs": [
    {
     "data": {
      "text/plain": [
       "[<matplotlib.lines.Line2D at 0x7fcfe1145550>]"
      ]
     },
     "execution_count": 51,
     "metadata": {},
     "output_type": "execute_result"
    },
    {
     "data": {
      "image/png": "[encoded data removed]",
      "text/plain": [
       "<Figure size 432x288 with 1 Axes>"
      ]
     },
     "metadata": {
      "needs_background": "light"
     },
     "output_type": "display_data"
    }
   ],
   "source": [
    "hist_ES = total_exp[countries == 'ES']\n",
    "fig, ax = plot.subplots()\n",
    "ax.plot(hist_ES)"
   ]
  },
  {
   "cell_type": "code",
   "execution_count": 43,
   "id": "06c3a31b",
   "metadata": {},
   "outputs": [
    {
     "name": "stdout",
     "output_type": "stream",
     "text": [
      "País: ['AT' 'BE' 'BG' 'CY' 'CZ' 'DE' 'DK' 'EA19' 'EE' 'EL' 'ES' 'EU27_2020' 'FI'\n",
      " 'FR' 'HR' 'HU' 'IE' 'IS' 'IT' 'LT' 'LU' 'LV' 'MT' 'NL' 'NO' 'PL' 'PT'\n",
      " 'RO' 'SE' 'SI' 'SK']\n",
      "Gasto en el 2020: [56.7 59.2 41.8 45.1 47.2 50.8 53.5 53.5 45.9 59.8 52.4 52.9 57.5 61.6\n",
      " 54.5 51.6 27.4 50.5 57.1 42.9 47.2 43.1 45.9 47.8 58.5 48.7 49.3 41.5\n",
      " 52.1 51.3 45.6]\n"
     ]
    }
   ],
   "source": [
    "#El gasto de los paises durante el último año con registro 2020\n",
    "last_exp = total_exp[year == '2020']\n",
    "(unique, ctrys) = (np.unique(countries), last_exp)\n",
    "print(f'País: {unique}\\nGasto en el 2020: {ctrys}')\n",
    "\n",
    "#El país con el porcentaje del gasto rspecto a su PIB es Francia, con un total del 61,6 porciento."
   ]
  },
  {
   "cell_type": "code",
   "execution_count": 42,
   "id": "e1318791",
   "metadata": {},
   "outputs": [
    {
     "name": "stdout",
     "output_type": "stream",
     "text": [
      "AT: Media 51.579998, Mediana 51.15\n",
      "BE: Media 54.466667, Mediana 53.7\n",
      "BG: Media 37.72222, Mediana 36.9\n",
      "CY: Media 41.71111, Mediana 42.2\n",
      "CZ: Media 42.17778, Mediana 41.9\n",
      "DE: Media 45.21111, Mediana 44.4\n",
      "DK: Media 53.1, Mediana 53.0\n",
      "EA19: Media 48.855556, Mediana 48.4\n",
      "EE: Media 39.800003, Mediana 39.4\n",
      "EL: Media 53.21111, Mediana 50.7\n",
      "ES: Media 44.81111, Mediana 43.9\n",
      "EU27_2020: Media 48.488888, Mediana 48.1\n",
      "FI: Media 55.477776, Mediana 55.6\n",
      "FR: Media 57.12222, Mediana 56.8\n",
      "HR: Media 47.911114, Mediana 48.2\n",
      "HU: Media 48.488888, Mediana 49.1\n",
      "IE: Media 31.222221, Mediana 28.1\n",
      "IS: Media 45.71111, Mediana 45.8\n",
      "IT: Media 50.52222, Mediana 50.3\n",
      "LT: Media 35.644447, Mediana 34.8\n",
      "LU: Media 41.944443, Mediana 41.3\n",
      "LV: Media 39.055557, Mediana 38.7\n",
      "MT: Media 38.888885, Mediana 38.5\n",
      "NL: Media 44.96, Mediana 45.449997\n",
      "NO: Media 49.355553, Mediana 49.3\n",
      "PL: Media 42.755554, Mediana 41.8\n",
      "PT: Media 47.1, Mediana 48.2\n",
      "RO: Media 36.022224, Mediana 36.0\n",
      "SE: Media 50.3, Mediana 49.9\n",
      "SI: Media 48.62222, Mediana 48.7\n",
      "SK: Media 42.377777, Mediana 42.6\n"
     ]
    }
   ],
   "source": [
    "#Cual es la media y la mediana del gasto por país?\n",
    "\n",
    "for country in np.unique(countries):\n",
    "    medias = str(np.mean(total_exp[countries == country]))\n",
    "    medianas = str(np.median(total_exp[countries == country]))\n",
    "    print(country + ': Media ' + medias + ', Mediana ' + medianas )\n",
    "\n",
    "#Observando los datos, podemos concluir que el país con una Mediana y Media superior que el resto es Francia, \n",
    "#Mientras que el país con menor Media y Mediana es Irlanda."
   ]
  },
  {
   "cell_type": "code",
   "execution_count": null,
   "id": "c7526fae",
   "metadata": {},
   "outputs": [],
   "source": []
  }
 ],
 "metadata": {
  "kernelspec": {
   "display_name": "Python 3 (ipykernel)",
   "language": "python",
   "name": "python3"
  },
  "language_info": {
   "codemirror_mode": {
    "name": "ipython",
    "version": 3
   },
   "file_extension": ".py",
   "mimetype": "text/x-python",
   "name": "python",
   "nbconvert_exporter": "python",
   "pygments_lexer": "ipython3",
   "version": "3.9.7"
  }
 },
 "nbformat": 4,
 "nbformat_minor": 5
}
