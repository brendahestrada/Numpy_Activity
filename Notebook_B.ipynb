{
 "cells": [
  {
   "cell_type": "code",
   "execution_count": 1,
   "id": "19527a76",
   "metadata": {},
   "outputs": [],
   "source": [
    "import numpy as np"
   ]
  },
  {
   "cell_type": "code",
   "execution_count": 27,
   "id": "b896b842",
   "metadata": {},
   "outputs": [],
   "source": [
    "distrito = np.loadtxt(\"data/Speculation_Watch_list.csv\", delimiter=\";\", usecols = (0), skiprows=1, dtype=\"U\")\n",
    "num_distrito = np.loadtxt(\"data/Speculation_Watch_list.csv\", delimiter=\";\", usecols = (1), skiprows=1, dtype=\"i\")\n",
    "precio = np.loadtxt(\"data/Speculation_Watch_list.csv\", delimiter=\";\", usecols = (11), skiprows=1, dtype=\"i\")"
   ]
  },
  {
   "cell_type": "code",
   "execution_count": 31,
   "id": "d00f83ff",
   "metadata": {},
   "outputs": [
    {
     "name": "stdout",
     "output_type": "stream",
     "text": [
      "Distritos: ['BK' 'BX' 'MN' 'QN' 'SI']\n",
      "Viviendas vendidas: [156 147 164  63   4]\n"
     ]
    }
   ],
   "source": [
    "#Listado del total de viviendas vendidas:\n",
    "(unique, counts) = np.unique(distrito, return_counts=True)\n",
    "print(f'Distritos: {unique}\\nViviendas vendidas: {counts}')\n",
    "#Existe una gran diferencia entre el total de ventas del distrito QN y SI, respecto al resto. Mientras que entre estos didstritos\n",
    "#se transaccionaron únicamente 67 viviendas, el el resto de distritos se concentran la mayor parte de las ventas, teniendo\n",
    "#como líder del mercado a 'MN' con un total de 165 viviendas vendidas."
   ]
  },
  {
   "cell_type": "code",
   "execution_count": 43,
   "id": "e101a4f4",
   "metadata": {},
   "outputs": [
    {
     "name": "stdout",
     "output_type": "stream",
     "text": [
      "[379 107  30   5   7   1   2   1   1   1]\n",
      "[  500000.  9450000. 18400000. 27350000. 36300000. 45250000. 54200000.\n",
      " 63150000. 72100000. 81050000. 90000000.]\n",
      "534\n"
     ]
    },
    {
     "data": {
      "image/png": "[encoded data removed]",
      "text/plain": [
       "<Figure size 432x288 with 1 Axes>"
      ]
     },
     "metadata": {
      "needs_background": "light"
     },
     "output_type": "display_data"
    }
   ],
   "source": [
    "#Histograma del precio de todas las viviendas vendidas\n",
    "import matplotlib.pyplot as plt\n",
    "\n",
    "hist, bin_edges = np.histogram(precio)\n",
    "print(hist)\n",
    "print(bin_edges)\n",
    "print(np.sum(hist))\n",
    "_ = plt.hist(precio, bins='auto')  # arguments are passed to np.histogram\n",
    "plt.title(\"Histogram del precio de las viviendas vendidas\")\n",
    "plt.show()\n",
    "\n",
    "#Podemos observar como mientras un total de 379 viviendas se encuentran en el rango de 500000 (que es mas de la mitad de las\n",
    "#viviendas vendidas, el precio mayor de las transacciones se centra unicamente en una casa con un total de 90000000)"
   ]
  },
  {
   "cell_type": "code",
   "execution_count": 44,
   "id": "e9826343",
   "metadata": {},
   "outputs": [
    {
     "name": "stdout",
     "output_type": "stream",
     "text": [
      "El precio máximo por el que se vendió una vivienda es de  90000000\n",
      "El precio mínimo por el que se vendió una vivienda es de  2550000\n"
     ]
    }
   ],
   "source": [
    "#Cual es el preico máximo y minimo por el que se vendieron viviendas en el bloque con mayores ventas?\n",
    "MN = precio[distrito == \"MN\"]\n",
    "print(\"El precio máximo por el que se vendió una vivienda es de \", np.amax(MN))\n",
    "print(\"El precio mínimo por el que se vendió una vivienda es de \", np.amin(MN))\n",
    "\n",
    "#Podemos identificar que este distrito contiene la venta de la casa mas cara en todo nuestro data set, mientras que la mas\n",
    "#\"barata\" se vendió por unt otal de 2550000"
   ]
  },
  {
   "cell_type": "code",
   "execution_count": 14,
   "id": "efb2e084",
   "metadata": {},
   "outputs": [
    {
     "name": "stdout",
     "output_type": "stream",
     "text": [
      "BK: Media 8691022.11\n",
      "BX: Media 6659420.79\n",
      "MN: Media 12382693.45\n",
      "QN: Media 9266994.21\n",
      "SI: Media 2206250.0\n"
     ]
    }
   ],
   "source": [
    "#El precio medio por distrito es:\n",
    "for dist in np.unique(distrito):\n",
    "    medias = str(np.round(np.mean(precio[distrito == dist]), decimals=2))\n",
    "    print(dist + ': Media ' + medias)\n",
    "\n",
    "#Podemos concluir que el distrito que integran las viviendas mas \"exclusivas\" y caras es definitivamente MN, con una media de precio\n",
    "#superior al resto y con el mayor numero de operaciones, mientras que la que concentra menor numero de ventas es SI, la cual \n",
    "#tiene igualmente el número menor de transacciones de venta. Definitivamente el mejor distrito para el mercado inmobiliario es MN"
   ]
  },
  {
   "cell_type": "code",
   "execution_count": null,
   "id": "f247379a",
   "metadata": {},
   "outputs": [],
   "source": []
  }
 ],
 "metadata": {
  "kernelspec": {
   "display_name": "Python 3 (ipykernel)",
   "language": "python",
   "name": "python3"
  },
  "language_info": {
   "codemirror_mode": {
    "name": "ipython",
    "version": 3
   },
   "file_extension": ".py",
   "mimetype": "text/x-python",
   "name": "python",
   "nbconvert_exporter": "python",
   "pygments_lexer": "ipython3",
   "version": "3.9.7"
  }
 },
 "nbformat": 4,
 "nbformat_minor": 5
}
