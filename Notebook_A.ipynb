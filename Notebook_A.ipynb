{
 "cells": [
  {
   "cell_type": "code",
   "execution_count": 1,
   "id": "e5cfc797",
   "metadata": {},
   "outputs": [],
   "source": [
    "import numpy as np"
   ]
  },
  {
   "cell_type": "code",
   "execution_count": 4,
   "id": "d4bfb2de",
   "metadata": {},
   "outputs": [],
   "source": [
    "municipios = np.loadtxt(\"data/50376.csv\", delimiter=\";\", usecols = (0), skiprows=1, dtype=\"U\")\n",
    "fenomeno = np.loadtxt(\"data/50376.csv\", delimiter=\";\", usecols = (1), skiprows=1, dtype=\"U\")\n",
    "total = np.loadtxt(\"data/50376.csv\", delimiter=\";\", usecols = (2), skiprows=1, dtype=\"i\",\n",
    "                   converters={2: lambda s:str(s.decode()).replace(\".\",\"\")})"
   ]
  },
  {
   "cell_type": "code",
   "execution_count": 5,
   "id": "65563a3d",
   "metadata": {},
   "outputs": [
    {
     "name": "stdout",
     "output_type": "stream",
     "text": [
      "[  70   47  178   58  109    6   57    3   62   10   50  340   20  100\n",
      "  109   41  208   35   14    5  434    3   35    1  186   39   91    4\n",
      "  334   16   58   24  277  445   13  239   19  264   33    6   22   77\n",
      " 3345   26  170  130   50   13   34  230   23   52  237   61   37    8\n",
      "  303   92   63   86   33   28   32   94  104   13   49]\n"
     ]
    }
   ],
   "source": [
    "#Series por nacidos vivos por residencia materna\n",
    "filtered_index5 = fenomeno == \"nacidos vivos por residencia materna\"\n",
    "print(total[filtered_index5])\n",
    "#El municipio con menor número de nacidos vivos es de 1, mientras que el de mayor número es de 3345"
   ]
  },
  {
   "cell_type": "code",
   "execution_count": 6,
   "id": "dd06bf3b",
   "metadata": {},
   "outputs": [
    {
     "name": "stdout",
     "output_type": "stream",
     "text": [
      "[   0    2    3    3    3    4    7    8   10   10   11   12   12   17\n",
      "   23   24   25   28   28   29   30   30   30   30   31   39   41   42\n",
      "   42   43   44   45   46   49   52   52   55   55   58   59   64   65\n",
      "   65   71   85   91   94  103  108  108  110  128  131  134  141  151\n",
      "  172  189  200  218  219  229  246  294  315  341 3355]\n"
     ]
    }
   ],
   "source": [
    "#Serie ordenada de fallecidos por el lugar de residencia\n",
    "filtered_index2 = fenomeno == \"fallecidos por el lugar de residencia\"\n",
    "fallecidos = np.sort(total[filtered_index2])\n",
    "print(fallecidos)\n",
    "#El municipio con mayor numero de fallecidos es de 3355, superior incluso, que al municipio con mayor número de nacidos vivos "
   ]
  },
  {
   "cell_type": "code",
   "execution_count": 7,
   "id": "b30703ab",
   "metadata": {},
   "outputs": [
    {
     "name": "stdout",
     "output_type": "stream",
     "text": [
      "crecimiento vegetativo: Media 13.37, Desv. Est. 32.63\n",
      "fallecidos por el lugar de residencia: Media 127.75, Desv. Est. 405.29\n",
      "matrimonios por el lugar en que han fijado residencia: Media 44.18, Desv. Est. 135.04\n",
      "muertes fetales tardías por residencia materna: Media 0.6, Desv. Est. 2.04\n",
      "nacidos vivos por residencia materna: Media 141.12, Desv. Est. 408.25\n"
     ]
    }
   ],
   "source": [
    "#Media y DevEst de los 5 indicadores disponibles por Municipio\n",
    "\n",
    "for fenom in np.unique(fenomeno):\n",
    "    medias = str(np.round(np.mean(total[fenomeno == fenom]), decimals=2))\n",
    "    ds = str(np.round(np.std(total[fenomeno == fenom]), decimals=2))\n",
    "    print(fenom + ': Media ' + medias + ', Desv. Est. ' + ds)\n",
    "\n",
    "#El inciador con mayor variación es el de nacidos vivos por residencia materna, con una media de 141.12, lo que explica \n",
    "#La gran diferencia entrelos totales de los municicpios con rangos desde 1:3345\n",
    "#El indicador con menos variación en sus totales por municipio es el de muertes fetales tarías por residencia con una\n",
    "#desviación d 2.04 y una media de 0.6, lo que indica bajos totales."
   ]
  },
  {
   "cell_type": "code",
   "execution_count": null,
   "id": "09950e66",
   "metadata": {},
   "outputs": [],
   "source": []
  }
 ],
 "metadata": {
  "kernelspec": {
   "display_name": "Python 3 (ipykernel)",
   "language": "python",
   "name": "python3"
  },
  "language_info": {
   "codemirror_mode": {
    "name": "ipython",
    "version": 3
   },
   "file_extension": ".py",
   "mimetype": "text/x-python",
   "name": "python",
   "nbconvert_exporter": "python",
   "pygments_lexer": "ipython3",
   "version": "3.9.7"
  }
 },
 "nbformat": 4,
 "nbformat_minor": 5
}
